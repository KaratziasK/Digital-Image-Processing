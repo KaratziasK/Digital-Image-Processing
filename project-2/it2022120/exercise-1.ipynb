{
 "cells": [
  {
   "cell_type": "markdown",
   "id": "42266217",
   "metadata": {},
   "source": [
    "# Άσκηση 1, Ανίχνευση ακμών:\n",
    "Θεωρήστε  τις  εικόνες  αποχρώσεων  του  γκρι  (grayscale image) `leaf.jpg`, `X-ray.jpeg` και `parking-lot.jpg`. \n",
    " \n",
    "**Ζητούμενα:** \n",
    "\n",
    "Α. Σχεδιάστε, περιγράψτε και εφαρμόστε 3 διαφορετικές μεθόδους για την ανίχνευση των κύριων ακμών κάθε εικόνας (δηλαδή να δοθεί έμφαση στην ανίχνευση των ορίων και των περιγραμμάτων των εικονιζόμενων αντικειμένων). \n",
    "\n",
    "Β. Για κάθε εικόνα, τυπώστε την αρχική εκδοχή της και τις 3 βέλτιστες δυαδικές μάσκες ανίχνευσης ακμών κάθε μεθόδου. Σχολιάστε τα αποτελέσματα. \n",
    "\n",
    "Για όλες τις περιπτώσεις ανίχνευσης ακμών, τυπώστε μόνο τη (βέλτιστη) δυαδική μάσκα που προκύπτει από κάθε μέθοδο και εξηγήστε λεπτομερώς τη διαδικασία σχεδίασης (π.χ. επιλογή μεθόδου, καθορισμός παραμέτρων, κτλ.)."
   ]
  },
  {
   "cell_type": "code",
   "execution_count": null,
   "id": "936c484a",
   "metadata": {},
   "outputs": [],
   "source": [
    "%pip install matplotlib numpy scikit-image scikit-learn --quiet"
   ]
  },
  {
   "cell_type": "code",
   "execution_count": null,
   "id": "77aa76e9",
   "metadata": {},
   "outputs": [],
   "source": [
    "import matplotlib.pyplot as plt\n",
    "import numpy as np\n",
    "import skimage as ski\n",
    "from sklearn.cluster import KMeans\n",
    "from sklearn.metrics import mean_squared_error\n",
    "\n",
    "# Φόρτωση της εικόνας\n",
    "image_flowers = ski.io.imread(\"https://github.com/KaratziasK/Digital-Image-Processing/blob/main/project-1/instructions/images-project-1/flowers.jpg?raw=true\")\n"
   ]
  }
 ],
 "metadata": {
  "kernelspec": {
   "display_name": "dip",
   "language": "python",
   "name": "python3"
  },
  "language_info": {
   "codemirror_mode": {
    "name": "ipython",
    "version": 3
   },
   "file_extension": ".py",
   "mimetype": "text/x-python",
   "name": "python",
   "nbconvert_exporter": "python",
   "pygments_lexer": "ipython3",
   "version": "3.10.16"
  }
 },
 "nbformat": 4,
 "nbformat_minor": 5
}
